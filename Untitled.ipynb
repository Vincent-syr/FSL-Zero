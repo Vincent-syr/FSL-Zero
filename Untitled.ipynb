{
 "cells": [
  {
   "cell_type": "code",
   "execution_count": 8,
   "metadata": {
    "ExecuteTime": {
     "end_time": "2020-10-29T07:23:13.901287Z",
     "start_time": "2020-10-29T07:23:12.384274Z"
    }
   },
   "outputs": [],
   "source": [
    "import numpy as np\n",
    "import torch\n",
    "import torch.nn as nn\n",
    "from torch.autograd import Variable\n",
    "import torch.optim\n",
    "import torch.optim.lr_scheduler as lr_scheduler\n",
    "import time\n",
    "import os\n",
    "import glob\n",
    "import copy\n",
    "import configs\n",
    "import backbone\n",
    "from data.datamgr import SetDataManager\n",
    "import argparse\n",
    "\n",
    "from io_utils import model_dict, parse_args, get_resume_file, get_trlog, save_fig\n",
    "from utils import Timer\n",
    "import warnings\n",
    "%load_ext autoreload\n",
    "%autoreload 2\n",
    "\n",
    "warnings.filterwarnings('ignore')"
   ]
  },
  {
   "cell_type": "code",
   "execution_count": 3,
   "metadata": {
    "ExecuteTime": {
     "end_time": "2020-10-27T08:03:51.955293Z",
     "start_time": "2020-10-27T08:03:51.883173Z"
    }
   },
   "outputs": [],
   "source": [
    "parser = argparse.ArgumentParser()\n",
    "parser.add_argument('--dataset'     , default='CUB',        help='CUB/miniImagenet/cross/omniglot/cross_char')\n",
    "parser.add_argument('--model'       , default='ResNet10',      help='model: Conv{4|6} / ResNet{10|18|34|50|101}') # 50 and 101 are not used in the paper\n",
    "parser.add_argument('--method'      , default='am3',   help='baseline/baseline++/protonet/matchingnet/relationnet{_softmax}/maml{_approx}') #relationnet_softmax replace L2 norm with softmax to expedite training, maml_approx use first-order approximation in the gradient for efficiency\n",
    "parser.add_argument('--train_n_way' , default=5, type=int,  help='class num to classify for training') #baseline and baseline++ would ignore this parameter\n",
    "parser.add_argument('--test_n_way'  , default=5, type=int,  help='class num to classify for testing (validation) ') #baseline and baseline++ only use this parameter in finetuning\n",
    "parser.add_argument('--n_shot'      , default=5, type=int,  help='number of labeled data in each class, same as n_support') #baseline and baseline++ only use this parameter in finetuning\n",
    "parser.add_argument('--n_query'      , default=8, type=int,  help='number of unlabeled  query data in each class, same as n_query') #baseline and baseline++ only use this parameter in finetuning\n",
    "\n",
    "parser.add_argument('--train_aug'   , default=True, help='perform data augmentation or not during training ') #still required for save_features.py and test.py to find the model path correctly\n",
    "parser.add_argument('--n_episode', default=100, type=int, help = 'num of episodes in each epoch')\n",
    "parser.add_argument('--mlp_dropout' , default=0.7, help='dropout rate in word embedding transformer')\n",
    "# parser.add_argument('--aux'   , default=False,  help='use attribute as auxiliary data, multimodal method')\n",
    "\n",
    "# learning rate, optim\n",
    "parser.add_argument('--lr_anneal', default='const', help='const/pwc/exp, schedule learning rate')\n",
    "parser.add_argument('--init_lr', default=0.01)\n",
    "parser.add_argument('--optim', default='Adam', help='Adam/SGD')\n",
    "parser.add_argument('--num_classes' , default=200, type=int, help='total number of classes in softmax, only used in baseline') #make it larger than the maximum label value in base class\n",
    "parser.add_argument('--save_freq'   , default=10, type=int, help='Save frequency')\n",
    "parser.add_argument('--start_epoch' , default=0, type=int,help ='Starting epoch')\n",
    "parser.add_argument('--stop_epoch'  , default=300, type=int, help ='Stopping epoch') #for meta-learning methods, each epoch contains 100 episodes. The default epoch number is dataset dependent. See train.py\n",
    "# parser.add_argument('--resume'      , action='store_true', help='continue from previous trained model with largest epoch')\n",
    "parser.add_argument('--warmup'      , action='store_true', help='continue from baseline, neglected if resume is true') #ne\n",
    "params = parser.parse_args([])"
   ]
  },
  {
   "cell_type": "code",
   "execution_count": 4,
   "metadata": {
    "ExecuteTime": {
     "end_time": "2020-10-27T08:03:55.705615Z",
     "start_time": "2020-10-27T08:03:55.655138Z"
    }
   },
   "outputs": [],
   "source": [
    "base_file = configs.data_dir[params.dataset] + 'base.json' \n",
    "val_file   = configs.data_dir[params.dataset] + 'val.json' \n",
    "attr_file = configs.data_dir[params.dataset] + 'cub_class_attr_05thresh_freq.dat'\n",
    "base_file = [base_file, attr_file]\n",
    "val_file = [val_file, attr_file]\n",
    "image_size = 224\n",
    "train_few_shot_params   = dict(n_way = params.train_n_way, n_support = params.n_shot, n_query=params.n_query) \n"
   ]
  },
  {
   "cell_type": "code",
   "execution_count": 5,
   "metadata": {
    "ExecuteTime": {
     "end_time": "2020-10-27T08:03:57.476716Z",
     "start_time": "2020-10-27T08:03:57.295179Z"
    }
   },
   "outputs": [],
   "source": [
    "base_datamgr = SetDataManager(image_size, n_episode=params.n_episode, **train_few_shot_params)\n",
    "base_loader             = base_datamgr.get_data_loader( base_file , aug = params.train_aug )\n"
   ]
  },
  {
   "cell_type": "code",
   "execution_count": 29,
   "metadata": {
    "ExecuteTime": {
     "end_time": "2020-10-28T06:41:12.420442Z",
     "start_time": "2020-10-28T06:41:12.210758Z"
    }
   },
   "outputs": [
    {
     "data": {
      "text/plain": [
       "tensor([[0., 1., 0.,  ..., 0., 0., 0.],\n",
       "        [0., 1., 0.,  ..., 0., 0., 0.],\n",
       "        [0., 1., 0.,  ..., 0., 0., 0.],\n",
       "        ...,\n",
       "        [0., 0., 0.,  ..., 0., 0., 0.],\n",
       "        [0., 0., 1.,  ..., 0., 0., 0.],\n",
       "        [0., 0., 1.,  ..., 0., 0., 0.]])"
      ]
     },
     "execution_count": 29,
     "metadata": {},
     "output_type": "execute_result"
    }
   ],
   "source": [
    "attr_all = torch.load(attr_file)\n",
    "attr_all.shape  # torch.Size([200, 134])\n",
    "attr_all"
   ]
  },
  {
   "cell_type": "code",
   "execution_count": 30,
   "metadata": {
    "ExecuteTime": {
     "end_time": "2020-10-28T06:41:16.235762Z",
     "start_time": "2020-10-28T06:41:15.779664Z"
    },
    "scrolled": true
   },
   "outputs": [
    {
     "data": {
      "text/plain": [
       "<matplotlib.image.AxesImage at 0x7f3ad1e8af60>"
      ]
     },
     "execution_count": 30,
     "metadata": {},
     "output_type": "execute_result"
    },
    {
     "data": {
      "image/png": "[encoded data removed]",
      "text/plain": [
       "<Figure size 288x429.851 with 1 Axes>"
      ]
     },
     "metadata": {
      "needs_background": "light"
     },
     "output_type": "display_data"
    }
   ],
   "source": [
    "import matplotlib.pyplot as plt\n",
    "plt.matshow(attr_all)"
   ]
  },
  {
   "cell_type": "code",
   "execution_count": 33,
   "metadata": {
    "ExecuteTime": {
     "end_time": "2020-10-28T06:44:26.900192Z",
     "start_time": "2020-10-28T06:44:26.805774Z"
    }
   },
   "outputs": [
    {
     "data": {
      "text/plain": [
       "tensor([ 15.,  15.,  77.,  45.,   8.,  46.,  46.,  12.,  82.,  38.,  20.,   9.,\n",
       "         47.,  47.,  17.,  75.,  34.,  25.,  12.,  15.,  29.,  30.,  91.,   8.,\n",
       "         22., 130.,   6.,  10.,  11.,   9.,  39.,  42.,  12.,  58.,  21.,  20.,\n",
       "         47.,   7.,  30.,  27.,  56.,  23.,  12.,   8.,  40.,  10.,  12.,  14.,\n",
       "         26.,  36.,  74.,   8.,  16.,  10.,  21.,  39.,  70.,   7.,   7., 190.,\n",
       "         68.,   7., 124.,  10.,  22.,  17.,  15.,  60.,  17.,  10.,   7.,  21.,\n",
       "         20.,  10.,  68.,  29.,  10.,  10.,  24.,  32.,  12.,  44.,  35.,   7.,\n",
       "         16.,   8.,  14.,  27.,  23.,  84.,  17.,  84.,   9., 127.,  37.,  14.,\n",
       "          9.,   6., 120.,  92.,   7.,  24.,  13.,  83.,   6.,  20., 152.,   7.,\n",
       "          9.,  33.,  35.,  28.,  48.,  40.,  18.,  38.,   6.,  53.,  19.,  18.,\n",
       "          6.,  94.,   9.,  10.,  26.,  20.,  11.,  64.,  16.,   9.,  56.,   9.,\n",
       "         31.,  42.])"
      ]
     },
     "execution_count": 33,
     "metadata": {},
     "output_type": "execute_result"
    }
   ],
   "source": [
    "part = attr_all.sum(dim=0)  # (200,134)\n",
    "part.shape  # torch.Size([134])\n",
    "part"
   ]
  },
  {
   "cell_type": "code",
   "execution_count": 43,
   "metadata": {
    "ExecuteTime": {
     "end_time": "2020-10-28T08:26:44.089912Z",
     "start_time": "2020-10-28T08:26:44.060241Z"
    }
   },
   "outputs": [],
   "source": [
    "# from methods.focal_loss import focal_loss\n",
    "gamma = 2\n",
    "logits = torch.FloatTensor([\n",
    "                    [0.1, 0.8, 0.3],\n",
    "                      [0.7, 0.56, 0.13]  ] )\n",
    "y_attr = torch.FloatTensor([\n",
    "                    [0, 1, 0],\n",
    "                    [0, 0, 1]])\n",
    "# loss_fn = focal_loss(alpha=0.5, gamma=2, num_classes=2)"
   ]
  },
  {
   "cell_type": "code",
   "execution_count": 45,
   "metadata": {
    "ExecuteTime": {
     "end_time": "2020-10-28T08:27:01.861886Z",
     "start_time": "2020-10-28T08:27:01.785125Z"
    }
   },
   "outputs": [
    {
     "data": {
      "text/plain": [
       "tensor(2.5900)"
      ]
     },
     "execution_count": 45,
     "metadata": {},
     "output_type": "execute_result"
    }
   ],
   "source": [
    "logits.mean()  # tensor(0.4317)\n",
    "logits.sum()  # tensor(2.5900)"
   ]
  },
  {
   "cell_type": "code",
   "execution_count": 47,
   "metadata": {
    "ExecuteTime": {
     "end_time": "2020-10-28T08:28:32.831915Z",
     "start_time": "2020-10-28T08:28:32.718976Z"
    }
   },
   "outputs": [
    {
     "data": {
      "text/plain": [
       "tensor(0.4056)"
      ]
     },
     "execution_count": 47,
     "metadata": {},
     "output_type": "execute_result"
    }
   ],
   "source": [
    "# gamma = 2\n",
    "log_pred_pos = torch.pow(1 - logits, gamma) * y_attr * torch.log(logits)\n",
    "log_pred_neg = torch.pow(logits, gamma) * (1-y_attr) * torch.log(1-logits)\n",
    "loss = (-1) * (log_pred_neg + log_pred_pos).mean()  # 对总维度求均值\n",
    "loss"
   ]
  },
  {
   "cell_type": "code",
   "execution_count": 48,
   "metadata": {
    "ExecuteTime": {
     "end_time": "2020-10-28T08:29:10.490368Z",
     "start_time": "2020-10-28T08:29:10.374371Z"
    }
   },
   "outputs": [
    {
     "data": {
      "text/plain": [
       "tensor(0.7917)"
      ]
     },
     "execution_count": 48,
     "metadata": {},
     "output_type": "execute_result"
    }
   ],
   "source": [
    "loss_attr = nn.BCELoss()\n",
    "loss_attr(logits, y_attr)"
   ]
  },
  {
   "cell_type": "markdown",
   "metadata": {},
   "source": [
    "## 验证compute acc的准确性\n",
    "结论是正确的"
   ]
  },
  {
   "cell_type": "code",
   "execution_count": 4,
   "metadata": {
    "ExecuteTime": {
     "end_time": "2020-10-29T07:08:39.676640Z",
     "start_time": "2020-10-29T07:08:39.667146Z"
    }
   },
   "outputs": [],
   "source": [
    "n_way = 5\n",
    "n_query = 8"
   ]
  },
  {
   "cell_type": "code",
   "execution_count": 9,
   "metadata": {
    "ExecuteTime": {
     "end_time": "2020-10-29T07:23:16.854120Z",
     "start_time": "2020-10-29T07:23:16.744116Z"
    }
   },
   "outputs": [
    {
     "name": "stdout",
     "output_type": "stream",
     "text": [
      "tensor([[ 2.0423, -0.5638, -1.3919, -0.3801, -0.9727],\n",
      "        [-0.2122,  0.9801, -2.4281, -0.0654,  0.8390],\n",
      "        [-1.4611,  0.7966,  1.2525, -0.0443,  0.4468],\n",
      "        [ 0.1529,  0.3748,  1.0222,  1.0710,  0.3828]])\n",
      "tensor([[0],\n",
      "        [1],\n",
      "        [2],\n",
      "        [3]])\n"
     ]
    }
   ],
   "source": [
    "pred = torch.randn((4, 5))\n",
    "print(pred)\n",
    "values, indices = pred.topk(1, dim=1, largest=True, sorted=True)\n",
    "print(indices)"
   ]
  },
  {
   "cell_type": "code",
   "execution_count": null,
   "metadata": {},
   "outputs": [],
   "source": [
    "img_proto   = z_support.mean(1)   # (n_way, feat_dim)\n",
    "dists = euclidean_dist(z_query, img_proto)\n",
    "scores = -dists"
   ]
  }
 ],
 "metadata": {
  "kernelspec": {
   "display_name": "torch100-gpu",
   "language": "python",
   "name": "torch100-gpu"
  },
  "language_info": {
   "codemirror_mode": {
    "name": "ipython",
    "version": 3
   },
   "file_extension": ".py",
   "mimetype": "text/x-python",
   "name": "python",
   "nbconvert_exporter": "python",
   "pygments_lexer": "ipython3",
   "version": "3.6.2"
  },
  "varInspector": {
   "cols": {
    "lenName": 16,
    "lenType": 16,
    "lenVar": 40
   },
   "kernels_config": {
    "python": {
     "delete_cmd_postfix": "",
     "delete_cmd_prefix": "del ",
     "library": "var_list.py",
     "varRefreshCmd": "print(var_dic_list())"
    },
    "r": {
     "delete_cmd_postfix": ") ",
     "delete_cmd_prefix": "rm(",
     "library": "var_list.r",
     "varRefreshCmd": "cat(var_dic_list()) "
    }
   },
   "types_to_exclude": [
    "module",
    "function",
    "builtin_function_or_method",
    "instance",
    "_Feature"
   ],
   "window_display": false
  }
 },
 "nbformat": 4,
 "nbformat_minor": 4
}
